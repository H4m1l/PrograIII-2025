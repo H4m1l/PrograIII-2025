{
  "nbformat": 4,
  "nbformat_minor": 0,
  "metadata": {
    "colab": {
      "provenance": [],
      "authorship_tag": "ABX9TyOmr62cmuQBuZOeOhTWkzfc",
      "include_colab_link": true
    },
    "kernelspec": {
      "name": "python3",
      "display_name": "Python 3"
    },
    "language_info": {
      "name": "python"
    }
  },
  "cells": [
    {
      "cell_type": "markdown",
      "metadata": {
        "id": "view-in-github",
        "colab_type": "text"
      },
      "source": [
        "<a href=\"https://colab.research.google.com/github/H4m1l/PrograIII-2025/blob/main/Untitled0.ipynb\" target=\"_parent\"><img src=\"https://colab.research.google.com/assets/colab-badge.svg\" alt=\"Open In Colab\"/></a>"
      ]
    },
    {
      "cell_type": "code",
      "execution_count": null,
      "metadata": {
        "colab": {
          "base_uri": "https://localhost:8080/"
        },
        "id": "81TXbyOrbPh8",
        "outputId": "c0430dc7-6c3b-4160-996d-2e8e3595ff52"
      },
      "outputs": [
        {
          "output_type": "stream",
          "name": "stdout",
          "text": [
            "La suma es:  37\n",
            "La suma de los pares es:  20\n",
            "suma pares  20\n"
          ]
        }
      ],
      "source": [
        "#Reduce\n",
        "from functools import reduce\n",
        "numeros = [5,4,9,6,8,2,3]\n",
        "suma = reduce(lambda acum, num: num+acum, numeros)\n",
        "\n",
        "sumapares = reduce(lambda acum, num: num+acum, filter(lambda num: num%2==0,numeros))\n",
        "sumapar = reduce(lambda acum, num: acum + num if num%2==0 else acum, numeros,0)\n",
        "\n",
        "print(\"La suma es: \",suma)\n",
        "print(\"La suma de los pares es: \",sumapares)\n",
        "print(\"suma pares \",sumapar)"
      ]
    },
    {
      "cell_type": "code",
      "source": [
        "tupla = (5,2,3,7,8,5)\n",
        "#tupla[0] = 1\n",
        "print(\"Tupla:\", tupla, \"Primer elemento: \", tupla [0], \"El numero 5 parece \", tupla.count(5))\n",
        "print(\"Ultimo elemento: \", tupla[-1])\n",
        "print(\"Rango: \", tupla[0:5])"
      ],
      "metadata": {
        "colab": {
          "base_uri": "https://localhost:8080/"
        },
        "id": "_adSAESKfMZ_",
        "outputId": "e014b4d8-3581-481d-f1d3-8c5d301ffb0b"
      },
      "execution_count": null,
      "outputs": [
        {
          "output_type": "stream",
          "name": "stdout",
          "text": [
            "Tupla: (5, 2, 3, 7, 8, 5) Primer elemento:  5 El numero 5 parece  2\n",
            "Ultimo elemento:  5\n",
            "Rango:  (5, 2, 3, 7, 8)\n"
          ]
        }
      ]
    },
    {
      "cell_type": "code",
      "source": [
        "import datetime\n",
        "fecha = datetime.date.today()\n",
        "\n",
        "semana = (\"Domingo\", \"Lunes\", \"Martes\", \"Miercoles\", \"Jueves\", \"Viernes\", \"Sabado\")\n",
        "meses = (\"\", \"Enero\", \"Febrero\", \"Marzo\", \"Abril\", \"Mayo\", \"Junio\", \"Julio\", \"Agosto\", \"Septiembre\", \"Octubre\", \"Noviembre\", \"Diciembre\")\n",
        "dia = fecha.day\n",
        "mes = fecha.month\n",
        "year = fecha.year\n",
        "diaSemana = semana[fecha.isoweekday()]\n",
        "\n",
        "print(diaSemana, dia, \"del\", meses[mes], \"del\", year)\n",
        "print(fecha, fecha.isoweekday(), diaSemana)\n",
        "print(dia, mes , year)"
      ],
      "metadata": {
        "colab": {
          "base_uri": "https://localhost:8080/"
        },
        "id": "37bWfwdZljL8",
        "outputId": "489b9d9c-3184-4946-ad94-5dc7a019c37b"
      },
      "execution_count": null,
      "outputs": [
        {
          "output_type": "stream",
          "name": "stdout",
          "text": [
            "Martes 12 del Agosto del 2025\n",
            "2025-08-12 2 Martes\n",
            "12 8 2025\n"
          ]
        }
      ]
    },
    {
      "cell_type": "markdown",
      "source": [
        "LISTAS"
      ],
      "metadata": {
        "id": "fdIS-ZNnnZr0"
      }
    },
    {
      "cell_type": "code",
      "source": [
        "lista = [5,8,9,4, \"Progra III\",True, [4,8,9, [8,9,4]]]\n",
        "print(lista)"
      ],
      "metadata": {
        "colab": {
          "base_uri": "https://localhost:8080/"
        },
        "id": "scsOKAG2mSZh",
        "outputId": "aa439de3-24e7-4c4e-ed0c-8eb876d469fe"
      },
      "execution_count": null,
      "outputs": [
        {
          "output_type": "stream",
          "name": "stdout",
          "text": [
            "[5, 8, 9, 4, 'Progra III', True, [4, 8, 9, [8, 9, 4]]]\n"
          ]
        }
      ]
    },
    {
      "cell_type": "code",
      "source": [
        "def calcularPromedio(nota, notas):\n",
        "    return notas[1]*0.3 + nota #8*0.3 + 9*0.3 + 10*0.9"
      ],
      "metadata": {
        "id": "MlFOLkDUsVws"
      },
      "execution_count": null,
      "outputs": []
    },
    {
      "cell_type": "code",
      "source": [
        "#Hacer ejercicio\n",
        "from functools import reduce\n",
        "\n",
        "notas = [[\"Lab1\", 8], [\"Lab2\", 9], [\"Parcial\", 10]]\n",
        "prom = reduce(calcularPromedio, notas, 0)\n",
        "print(\"Nota Final: \", prom)"
      ],
      "metadata": {
        "colab": {
          "base_uri": "https://localhost:8080/"
        },
        "id": "E1sfdBd9nuQA",
        "outputId": "fae6b6fc-976d-4652-ff91-a17589756806"
      },
      "execution_count": null,
      "outputs": [
        {
          "output_type": "stream",
          "name": "stdout",
          "text": [
            "Nota Final:  8.1\n"
          ]
        }
      ]
    },
    {
      "cell_type": "code",
      "source": [
        "def calcular_varianza():\n",
        "    \"\"\"\n",
        "    Calcula la varianza de una serie de números introducidos por el usuario.\n",
        "    \"\"\"\n",
        "    numeros = []\n",
        "\n",
        "    # Solicitar al usuario que ingrese los números\n",
        "    print(\"Ingresa los números para calcular la varianza. Escribe 'fin' para terminar.\")\n",
        "    while True:\n",
        "        entrada = input(\"Introduce un número: \")\n",
        "        if entrada.lower() == 'fin':\n",
        "            break\n",
        "        try:\n",
        "            numeros.append(float(entrada))\n",
        "        except ValueError:\n",
        "            print(\"Entrada inválida. Por favor, ingresa un número válido o 'fin'.\")\n",
        "\n",
        "    if not numeros:\n",
        "        print(\"No se introdujeron números. No se puede calcular la varianza.\")\n",
        "        return\n",
        "\n",
        "    # Calcular la media\n",
        "    media = sum(numeros) / len(numeros)\n",
        "\n",
        "    # Calcular las diferencias al cuadrado\n",
        "    diferencias_cuadrado = [(x - media) ** 2 for x in numeros]\n",
        "\n",
        "    # Calcular la varianza\n",
        "    varianza = sum(diferencias_cuadrado) / len(numeros)\n",
        "\n",
        "    print(f\"\\nLos números ingresados son: {numeros}\")\n",
        "    print(f\"La media (promedio) es: {media:.2f}\")\n",
        "    print(f\"La varianza es: {varianza:.2f}\")\n",
        "\n",
        "# Ejecutar la función\n",
        "calcular_varianza()"
      ],
      "metadata": {
        "colab": {
          "base_uri": "https://localhost:8080/"
        },
        "id": "UKE9r0AQKw6q",
        "outputId": "2064aa15-4bed-4217-fd5e-d3858363bd10"
      },
      "execution_count": null,
      "outputs": [
        {
          "output_type": "stream",
          "name": "stdout",
          "text": [
            "Ingresa los números para calcular la varianza. Escribe 'fin' para terminar.\n",
            "Introduce un número: fin\n",
            "No se introdujeron números. No se puede calcular la varianza.\n"
          ]
        }
      ]
    },
    {
      "cell_type": "code",
      "source": [
        "def encontrar_frecuencia():\n",
        "    \"\"\"\n",
        "    Encuentra la frecuencia de una serie de números introducidos por el usuario.\n",
        "    \"\"\"\n",
        "    numeros = []\n",
        "\n",
        "    # Solicitar al usuario que ingrese los números\n",
        "    print(\"Ingresa los números para encontrar la frecuencia. Escribe 'fin' para terminar.\")\n",
        "    while True:\n",
        "        entrada = input(\"Introduce un número: \")\n",
        "        if entrada.lower() == 'fin':\n",
        "            break\n",
        "        try:\n",
        "            numeros.append(int(entrada))\n",
        "        except ValueError:\n",
        "            print(\"Entrada inválida. Por favor, ingresa un número entero o 'fin'.\")\n",
        "\n",
        "    if not numeros:\n",
        "        print(\"No se introdujeron números. No se puede calcular la frecuencia.\")\n",
        "        return\n",
        "\n",
        "    frecuencia = {}\n",
        "    for numero in numeros:\n",
        "        frecuencia[numero] = frecuencia.get(numero, 0) + 1\n",
        "\n",
        "    print(f\"\\nLos números ingresados son: {numeros}\")\n",
        "    print(\"\\nFrecuencia de los números:\")\n",
        "    for num, freq in frecuencia.items():\n",
        "        print(f\"El número {num} aparece {freq} vez(ces).\")\n",
        "\n",
        "# Ejecutar la función\n",
        "encontrar_frecuencia()"
      ],
      "metadata": {
        "colab": {
          "base_uri": "https://localhost:8080/"
        },
        "id": "ZFSdXDigK0fw",
        "outputId": "2e6552f3-03cb-46ee-915d-051c4c8ad20b"
      },
      "execution_count": null,
      "outputs": [
        {
          "output_type": "stream",
          "name": "stdout",
          "text": [
            "Ingresa los números para encontrar la frecuencia. Escribe 'fin' para terminar.\n",
            "Introduce un número: fin\n",
            "No se introdujeron números. No se puede calcular la frecuencia.\n"
          ]
        }
      ]
    },
    {
      "cell_type": "code",
      "source": [
        "def es_palindromo():\n",
        "    \"\"\"\n",
        "    Determina si una palabra introducida por el usuario es un palíndromo.\n",
        "    \"\"\"\n",
        "    palabra = input(\"Ingresa una palabra o frase para verificar si es un palíndromo: \")\n",
        "\n",
        "    # Limpiar la palabra (quitar espacios y convertir a minúsculas)\n",
        "    palabra_limpia = palabra.replace(\" \", \"\").lower()\n",
        "\n",
        "    # Invertir la palabra\n",
        "    palabra_invertida = palabra_limpia[::-1]\n",
        "\n",
        "    # Comparar la palabra limpia con su versión invertida\n",
        "    if palabra_limpia == palabra_invertida:\n",
        "        print(f\"¡'{palabra}' es un palíndromo!\")\n",
        "    else:\n",
        "        print(f\"'{palabra}' no es un palíndromo.\")\n",
        "\n",
        "# Ejecutar la función\n",
        "es_palindromo()"
      ],
      "metadata": {
        "colab": {
          "base_uri": "https://localhost:8080/"
        },
        "id": "UGwjL7LYKzaY",
        "outputId": "e25dc26a-fc94-40fd-d526-f412a917b9ea"
      },
      "execution_count": null,
      "outputs": [
        {
          "output_type": "stream",
          "name": "stdout",
          "text": [
            "Ingresa una palabra o frase para verificar si es un palíndromo: 56777\n",
            "'56777' no es un palíndromo.\n"
          ]
        }
      ]
    },
    {
      "cell_type": "code",
      "source": [
        "#crear un programa que calcule el mayor de n numeros.\n",
        "class calculadora:\n",
        "    def mayor(self, serie):\n",
        "      nMayor = 0\n",
        "      for i in serie:\n",
        "        num = int(i)\n",
        "        if(num>nMayor):\n",
        "          nMayor = num\n",
        "\n",
        "      return nMayor\n",
        "\n",
        "    def menor(self, serie):\n",
        "      nMenor = 99999\n",
        "      for i in serie:\n",
        "        num = int(i)\n",
        "        if(num<nMenor):\n",
        "          nMenor = num\n",
        "      return nMenor\n",
        "\n",
        "calcular = calculadora()\n",
        "serie = input(\"serie eje: 1,5,4,9,3\").split(\",\")\n",
        "print(serie)\n",
        "print(\"el mayor es:\", calcular.mayor(serie))\n",
        "print(\"el menor es:\", calcular.menor(serie))"
      ],
      "metadata": {
        "colab": {
          "base_uri": "https://localhost:8080/"
        },
        "id": "XTJWYSd5gYPe",
        "outputId": "3d85b356-e90a-4cd9-a912-7e4b4d298ca4"
      },
      "execution_count": null,
      "outputs": [
        {
          "output_type": "stream",
          "name": "stdout",
          "text": [
            "serie eje: 1,5,4,9,31,5,4,9,3\n",
            "['1', '5', '4', '9', '3']\n",
            "el mayor es: 9\n",
            "el menor es: 1\n"
          ]
        }
      ]
    },
    {
      "cell_type": "code",
      "source": [
        "#Encontrar la persona de mayor edad en una lista de datos.\n",
        "personas = [\n",
        "    {\"nombre\": \"Juan\", \"edad\": 30},\n",
        "    {\"nombre\": \"María\", \"edad\": 25},\n",
        "    {\"nombre\": \"Pedro\", \"edad\":56},\n",
        "    {\"nombre\": \"Ana\", \"edad\": 18},\n",
        "    {\"nombre\": \"Luis\", \"edad\": 45}\n",
        "]\n",
        "\n",
        "def encontrar_persona_mayor_edad(personas):\n",
        "    persona_mayor_edad = None\n",
        "    edad_mayor = 0\n",
        "\n",
        "    for persona in personas:\n",
        "        if persona[\"edad\"] > edad_mayor:\n",
        "            persona_mayor_edad = persona\n",
        "            edad_mayor = persona[\"edad\"]\n",
        "\n",
        "    return persona_mayor_edad\n",
        "\n",
        "persona_mayor_edad = encontrar_persona_mayor_edad(personas)\n",
        "if persona_mayor_edad:\n",
        "    print(f\"La persona de mayor edad es {persona_mayor_edad['nombre']} con {persona_mayor_edad['edad']} años.\")\n",
        "else:\n",
        "    print(\"No se encontraron personas en la lista.\")\n"
      ],
      "metadata": {
        "colab": {
          "base_uri": "https://localhost:8080/"
        },
        "id": "vu8xgehLk5hz",
        "outputId": "909832a5-b058-4062-baba-bacd62bdd773"
      },
      "execution_count": null,
      "outputs": [
        {
          "output_type": "stream",
          "name": "stdout",
          "text": [
            "La persona de mayor edad es Pedro con 56 años.\n"
          ]
        }
      ]
    },
    {
      "cell_type": "code",
      "source": [
        "#Parcial 1 Computo 1"
      ],
      "metadata": {
        "id": "ZihLuSulkCq-"
      },
      "execution_count": null,
      "outputs": []
    },
    {
      "cell_type": "code",
      "source": [
        "#Calculo de impuesto a las actividades economicas\n",
        "\n",
        "TARIFAS = [\n",
        "    # (desde, hasta, precio, adicional)\n",
        "    (0.01, 500.00, 1.5, 0),\n",
        "    (500.01, 1000.00, 1.5, 3),\n",
        "    (1000.01, 2000.00, 3, 3),\n",
        "    (2000.01, 3000.00, 6, 3),\n",
        "    (3000.01, 6000.00, 9, 2),\n",
        "    (6000.01, 8000.00, 15, 2),\n",
        "    (8000.01, 18000.00, 15, 2),\n",
        "    (18000.01, 30000.00, 39, 2),\n",
        "    (30000.01, 60000.00, 63, 1),\n",
        "    (60000.01, 100000.00, 93, 0.8),\n",
        "    (100000.01, 200000.00, 125, 0.7),\n",
        "    (200000.01, 300000.00, 195, 0.6),\n",
        "    (300000.01, 400000.00, 255, 0.45),\n",
        "    (400000.01, 500000.00, 300, 0.4),\n",
        "    (500000.01, 1000000.00, 340, 0.3),\n",
        "    (1000000.01, 99999999.00, 490, 0.18)\n",
        "]\n",
        "\n",
        "def calcular_tarifa(valor):\n",
        "    \"\"\"\n",
        "    Calcula la tarifa basada en el valor ingresado según la tabla de escalones\n",
        "    Fórmula: Precio + [(Valor - Desde) / 1000] * Adicional\n",
        "    \"\"\"\n",
        "    for desde, hasta, precio, adicional in TARIFAS:\n",
        "        if desde <= valor <= hasta:\n",
        "            excedente = valor - desde\n",
        "            monto_adicional = (excedente / 1000) * adicional\n",
        "            return round(precio + monto_adicional, 2)\n",
        "\n",
        "    return 0.00\n",
        "\n",
        "def main():\n",
        "    print(\"\\nCALCULADORA DE TARIFAS POR ESCALONES\")\n",
        "    print(\"-----------------------------------\")\n",
        "\n",
        "    try:\n",
        "        valor = float(input(\"Ingrese el valor a calcular: $\"))\n",
        "\n",
        "        if valor <= 0:\n",
        "            print(\"Error: El valor debe ser mayor a 0\")\n",
        "            return\n",
        "\n",
        "        tarifa = calcular_tarifa(valor)\n",
        "\n",
        "        # Encontrar el rango aplicado para mostrar detalles\n",
        "        for desde, hasta, precio, adicional in TARIFAS:\n",
        "            if desde <= valor <= hasta:\n",
        "                excedente = valor - desde\n",
        "                monto_adicional = (excedente / 1000) * adicional\n",
        "                break\n",
        "\n",
        "        print(\"\\nDESGLOSE DEL CÁLCULO\")\n",
        "        print(\"+----------------------+-----------+\")\n",
        "        print(\"| Concepto             | Valor     |\")\n",
        "        print(\"+----------------------+-----------+\")\n",
        "        print(f\"| Valor base           | ${valor:>9.2f} |\")\n",
        "        print(f\"| Rango aplicado       | ${desde:>9.2f} - ${hasta:>9.2f} |\")\n",
        "        print(f\"| Precio fijo          | ${precio:>9.2f} |\")\n",
        "        print(f\"| Excedente            | ${excedente:>9.2f} |\")\n",
        "        print(f\"| Tasa adicional       | ${adicional:>9.2f} por 1000 |\")\n",
        "        print(f\"| Monto adicional      | ${monto_adicional:>9.2f} |\")\n",
        "        print(\"+----------------------+-----------+\")\n",
        "        print(f\"| TOTAL A PAGAR        | ${tarifa:>9.2f} |\")\n",
        "        print(\"+----------------------+-----------+\")\n",
        "\n",
        "    except ValueError:\n",
        "        print(\"Error: Por favor ingrese un valor numérico válido\")\n",
        "\n",
        "if __name__ == \"__main__\":\n",
        "    main()\n",
        "\n"
      ],
      "metadata": {
        "id": "_2paaYeuqERz",
        "colab": {
          "base_uri": "https://localhost:8080/"
        },
        "outputId": "c4401b5b-bb6f-4314-8e5c-eb0f0878cca4"
      },
      "execution_count": 23,
      "outputs": [
        {
          "output_type": "stream",
          "name": "stdout",
          "text": [
            "\n",
            "CALCULADORA DE TARIFAS POR ESCALONES\n",
            "-----------------------------------\n",
            "Ingrese el valor a calcular: $20000\n",
            "\n",
            "DESGLOSE DEL CÁLCULO\n",
            "+----------------------+-----------+\n",
            "| Concepto             | Valor     |\n",
            "+----------------------+-----------+\n",
            "| Valor base           | $ 20000.00 |\n",
            "| Rango aplicado       | $ 18000.01 - $ 30000.00 |\n",
            "| Precio fijo          | $    39.00 |\n",
            "| Excedente            | $  1999.99 |\n",
            "| Tasa adicional       | $     2.00 por 1000 |\n",
            "| Monto adicional      | $     4.00 |\n",
            "+----------------------+-----------+\n",
            "| TOTAL A PAGAR        | $    43.00 |\n",
            "+----------------------+-----------+\n"
          ]
        }
      ]
    },
    {
      "cell_type": "code",
      "source": [
        "UNIDADES = {\n",
        "    \"piecuadrado\": 0.092903,\n",
        "    \"varacuadrada\": 0.6987,\n",
        "    \"yardacuadrada\": 0.836127,\n",
        "    \"metrocuadrado\": 1.0,\n",
        "    \"tarea\": 698.74,\n",
        "    \"manzana\": 6987.4,\n",
        "    \"hectarea\": 10000.0\n",
        "}\n",
        "\n",
        "opciones = {\n",
        "    \"1\": \"piecuadrado\",\n",
        "    \"2\": \"varacuadrada\",\n",
        "    \"3\": \"yardacuadrada\",\n",
        "    \"4\": \"metrocuadrado\",\n",
        "    \"5\": \"tarea\",\n",
        "    \"6\": \"manzana\",\n",
        "    \"7\": \"hectarea\"\n",
        "}\n",
        "\n",
        "nombres = {\n",
        "    \"piecuadrado\": \"Pies Cuadrados\",\n",
        "    \"varacuadrada\": \"Varas Cuadradas\",\n",
        "    \"yardacuadrada\": \"Yardas Cuadradas\",\n",
        "    \"metrocuadrado\": \"Metros Cuadrados\",\n",
        "    \"tarea\": \"Tareas\",\n",
        "    \"manzana\": \"Manzanas\",\n",
        "    \"hectarea\": \"Hectáreas\"\n",
        "}\n",
        "\n",
        "print(\"CONVERSOR DE UNIDADES DE ÁREA\")\n",
        "print(\"==========================================\")\n",
        "\n",
        "print(\"\\nUNIDADES DISPONIBLES:\")\n",
        "print(\"--------------------\")\n",
        "for i in range(1, 8):\n",
        "    print(f\"{i}. {nombres[opciones[str(i)]]}\")\n",
        "print(\"--------------------\")\n",
        "\n",
        "valor = float(input(\"\\nIngrese el valor a convertir: \"))\n",
        "\n",
        "opcion_origen = input(\"\\nSeleccione la unidad de ORIGEN (1-7): \")\n",
        "opcion_destino = input(\"Seleccione la unidad de DESTINO (1-7): \")\n",
        "\n",
        "# Convertir directamente sin validar\n",
        "unidad_origen = opciones[opcion_origen]\n",
        "unidad_destino = opciones[opcion_destino]\n",
        "\n",
        "# Calcular resultado\n",
        "resultado = (valor * UNIDADES[unidad_origen]) / UNIDADES[unidad_destino]\n",
        "\n",
        "print(f\"\\nRESULTADO:\")\n",
        "print(f\"{valor} {nombres[unidad_origen]} = {resultado:.6f} {nombres[unidad_destino]}\")"
      ],
      "metadata": {
        "colab": {
          "base_uri": "https://localhost:8080/"
        },
        "id": "gR5a1DT6waH5",
        "outputId": "a37a567b-c8e5-46f1-e7e4-9c4195a417f1"
      },
      "execution_count": 26,
      "outputs": [
        {
          "output_type": "stream",
          "name": "stdout",
          "text": [
            "CONVERSOR DE UNIDADES DE ÁREA\n",
            "==========================================\n",
            "\n",
            "UNIDADES DISPONIBLES:\n",
            "--------------------\n",
            "1. Pies Cuadrados\n",
            "2. Varas Cuadradas\n",
            "3. Yardas Cuadradas\n",
            "4. Metros Cuadrados\n",
            "5. Tareas\n",
            "6. Manzanas\n",
            "7. Hectáreas\n",
            "--------------------\n",
            "\n",
            "Ingrese el valor a convertir: 1\n",
            "\n",
            "Seleccione la unidad de ORIGEN (1-7): 6\n",
            "Seleccione la unidad de DESTINO (1-7): 5\n",
            "\n",
            "RESULTADO:\n",
            "1.0 Manzanas = 10.000000 Tareas\n"
          ]
        }
      ]
    },
    {
      "cell_type": "code",
      "source": [
        "#Cajero automatico\n",
        "def simular_cajero():\n",
        "    try:\n",
        "        cantidad = float(input(\"Ingrese la cantidad a retirar: \"))\n",
        "    except ValueError:\n",
        "        return\n",
        "\n",
        "    if cantidad <= 0:\n",
        "        return\n",
        "\n",
        "    print(f\"Desglose para ${cantidad:.2f}:\")\n",
        "\n",
        "    denominaciones_billetes = [20, 10, 5, 1]\n",
        "    denominaciones_monedas = [0.25, 0.10, 0.05, 0.01]\n",
        "\n",
        "    cantidad_restante = cantidad\n",
        "\n",
        "    # Billetes\n",
        "    for billete in denominaciones_billetes:\n",
        "        if cantidad_restante >= billete:\n",
        "            cantidad_billetes = int(cantidad_restante // billete)\n",
        "            print(f\"{cantidad_billetes} billete(s) de a ${billete}\")\n",
        "            cantidad_restante %= billete\n",
        "\n",
        "    # Coins\n",
        "    cantidad_restante_centavos = round(cantidad_restante * 100)\n",
        "\n",
        "    for moneda_centavos in [int(m * 100) for m in denominaciones_monedas]:\n",
        "        if cantidad_restante_centavos >= moneda_centavos:\n",
        "            cantidad_monedas = int(cantidad_restante_centavos // moneda_centavos)\n",
        "            valor_moneda_dolar = moneda_centavos / 100\n",
        "            print(f\"{cantidad_monedas} moneda(s) de a ${valor_moneda_dolar:.2f} ctvs.\")\n",
        "            cantidad_restante_centavos %= moneda_centavos\n",
        "\n",
        "simular_cajero()"
      ],
      "metadata": {
        "colab": {
          "base_uri": "https://localhost:8080/"
        },
        "id": "cM8tNzSnnHa5",
        "outputId": "256e171a-1a7a-4037-c320-61216cd867c5"
      },
      "execution_count": 24,
      "outputs": [
        {
          "output_type": "stream",
          "name": "stdout",
          "text": [
            "Ingrese la cantidad a retirar: 199.63\n",
            "Desglose para $199.63:\n",
            "9 billete(s) de a $20\n",
            "1 billete(s) de a $10\n",
            "1 billete(s) de a $5\n",
            "4 billete(s) de a $1\n",
            "2 moneda(s) de a $0.25 ctvs.\n",
            "1 moneda(s) de a $0.10 ctvs.\n",
            "3 moneda(s) de a $0.01 ctvs.\n"
          ]
        }
      ]
    },
    {
      "cell_type": "code",
      "source": [],
      "metadata": {
        "id": "ERPG53jQpuhF"
      },
      "execution_count": null,
      "outputs": []
    }
  ]
}