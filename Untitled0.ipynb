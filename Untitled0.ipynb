{
  "nbformat": 4,
  "nbformat_minor": 0,
  "metadata": {
    "colab": {
      "provenance": [],
      "authorship_tag": "ABX9TyP4O5lzZtlacM+nHNaB+r6L",
      "include_colab_link": true
    },
    "kernelspec": {
      "name": "python3",
      "display_name": "Python 3"
    },
    "language_info": {
      "name": "python"
    }
  },
  "cells": [
    {
      "cell_type": "markdown",
      "metadata": {
        "id": "view-in-github",
        "colab_type": "text"
      },
      "source": [
        "<a href=\"https://colab.research.google.com/github/H4m1l/PrograIII-2025/blob/main/Untitled0.ipynb\" target=\"_parent\"><img src=\"https://colab.research.google.com/assets/colab-badge.svg\" alt=\"Open In Colab\"/></a>"
      ]
    },
    {
      "cell_type": "code",
      "execution_count": null,
      "metadata": {
        "colab": {
          "base_uri": "https://localhost:8080/"
        },
        "id": "81TXbyOrbPh8",
        "outputId": "c0430dc7-6c3b-4160-996d-2e8e3595ff52"
      },
      "outputs": [
        {
          "output_type": "stream",
          "name": "stdout",
          "text": [
            "La suma es:  37\n",
            "La suma de los pares es:  20\n",
            "suma pares  20\n"
          ]
        }
      ],
      "source": [
        "#Reduce\n",
        "from functools import reduce\n",
        "numeros = [5,4,9,6,8,2,3]\n",
        "suma = reduce(lambda acum, num: num+acum, numeros)\n",
        "\n",
        "sumapares = reduce(lambda acum, num: num+acum, filter(lambda num: num%2==0,numeros))\n",
        "sumapar = reduce(lambda acum, num: acum + num if num%2==0 else acum, numeros,0)\n",
        "\n",
        "print(\"La suma es: \",suma)\n",
        "print(\"La suma de los pares es: \",sumapares)\n",
        "print(\"suma pares \",sumapar)"
      ]
    },
    {
      "cell_type": "code",
      "source": [
        "tupla = (5,2,3,7,8,5)\n",
        "#tupla[0] = 1\n",
        "print(\"Tupla:\", tupla, \"Primer elemento: \", tupla [0], \"El numero 5 parece \", tupla.count(5))\n",
        "print(\"Ultimo elemento: \", tupla[-1])\n",
        "print(\"Rango: \", tupla[0:5])"
      ],
      "metadata": {
        "colab": {
          "base_uri": "https://localhost:8080/"
        },
        "id": "_adSAESKfMZ_",
        "outputId": "e014b4d8-3581-481d-f1d3-8c5d301ffb0b"
      },
      "execution_count": null,
      "outputs": [
        {
          "output_type": "stream",
          "name": "stdout",
          "text": [
            "Tupla: (5, 2, 3, 7, 8, 5) Primer elemento:  5 El numero 5 parece  2\n",
            "Ultimo elemento:  5\n",
            "Rango:  (5, 2, 3, 7, 8)\n"
          ]
        }
      ]
    },
    {
      "cell_type": "code",
      "source": [
        "import datetime\n",
        "fecha = datetime.date.today()\n",
        "\n",
        "semana = (\"Domingo\", \"Lunes\", \"Martes\", \"Miercoles\", \"Jueves\", \"Viernes\", \"Sabado\")\n",
        "meses = (\"\", \"Enero\", \"Febrero\", \"Marzo\", \"Abril\", \"Mayo\", \"Junio\", \"Julio\", \"Agosto\", \"Septiembre\", \"Octubre\", \"Noviembre\", \"Diciembre\")\n",
        "dia = fecha.day\n",
        "mes = fecha.month\n",
        "year = fecha.year\n",
        "diaSemana = semana[fecha.isoweekday()]\n",
        "\n",
        "print(diaSemana, dia, \"del\", meses[mes], \"del\", year)\n",
        "print(fecha, fecha.isoweekday(), diaSemana)\n",
        "print(dia, mes , year)"
      ],
      "metadata": {
        "colab": {
          "base_uri": "https://localhost:8080/"
        },
        "id": "37bWfwdZljL8",
        "outputId": "489b9d9c-3184-4946-ad94-5dc7a019c37b"
      },
      "execution_count": null,
      "outputs": [
        {
          "output_type": "stream",
          "name": "stdout",
          "text": [
            "Martes 12 del Agosto del 2025\n",
            "2025-08-12 2 Martes\n",
            "12 8 2025\n"
          ]
        }
      ]
    },
    {
      "cell_type": "markdown",
      "source": [
        "LISTAS"
      ],
      "metadata": {
        "id": "fdIS-ZNnnZr0"
      }
    },
    {
      "cell_type": "code",
      "source": [
        "lista = [5,8,9,4, \"Progra III\",True, [4,8,9, [8,9,4]]]\n",
        "print(lista)"
      ],
      "metadata": {
        "colab": {
          "base_uri": "https://localhost:8080/"
        },
        "id": "scsOKAG2mSZh",
        "outputId": "aa439de3-24e7-4c4e-ed0c-8eb876d469fe"
      },
      "execution_count": null,
      "outputs": [
        {
          "output_type": "stream",
          "name": "stdout",
          "text": [
            "[5, 8, 9, 4, 'Progra III', True, [4, 8, 9, [8, 9, 4]]]\n"
          ]
        }
      ]
    },
    {
      "cell_type": "code",
      "source": [
        "def calcularPromedio(nota, notas):\n",
        "    return notas[1]*0.3 + nota #8*0.3 + 9*0.3 + 10*0.9"
      ],
      "metadata": {
        "id": "MlFOLkDUsVws"
      },
      "execution_count": null,
      "outputs": []
    },
    {
      "cell_type": "code",
      "source": [
        "#Hacer ejercicio\n",
        "from functools import reduce\n",
        "\n",
        "notas = [[\"Lab1\", 8], [\"Lab2\", 9], [\"Parcial\", 10]]\n",
        "prom = reduce(calcularPromedio, notas, 0)\n",
        "print(\"Nota Final: \", prom)"
      ],
      "metadata": {
        "colab": {
          "base_uri": "https://localhost:8080/"
        },
        "id": "E1sfdBd9nuQA",
        "outputId": "fae6b6fc-976d-4652-ff91-a17589756806"
      },
      "execution_count": null,
      "outputs": [
        {
          "output_type": "stream",
          "name": "stdout",
          "text": [
            "Nota Final:  8.1\n"
          ]
        }
      ]
    },
    {
      "cell_type": "code",
      "source": [
        "def calcular_varianza():\n",
        "    \"\"\"\n",
        "    Calcula la varianza de una serie de números introducidos por el usuario.\n",
        "    \"\"\"\n",
        "    numeros = []\n",
        "\n",
        "    # Solicitar al usuario que ingrese los números\n",
        "    print(\"Ingresa los números para calcular la varianza. Escribe 'fin' para terminar.\")\n",
        "    while True:\n",
        "        entrada = input(\"Introduce un número: \")\n",
        "        if entrada.lower() == 'fin':\n",
        "            break\n",
        "        try:\n",
        "            numeros.append(float(entrada))\n",
        "        except ValueError:\n",
        "            print(\"Entrada inválida. Por favor, ingresa un número válido o 'fin'.\")\n",
        "\n",
        "    if not numeros:\n",
        "        print(\"No se introdujeron números. No se puede calcular la varianza.\")\n",
        "        return\n",
        "\n",
        "    # Calcular la media\n",
        "    media = sum(numeros) / len(numeros)\n",
        "\n",
        "    # Calcular las diferencias al cuadrado\n",
        "    diferencias_cuadrado = [(x - media) ** 2 for x in numeros]\n",
        "\n",
        "    # Calcular la varianza\n",
        "    varianza = sum(diferencias_cuadrado) / len(numeros)\n",
        "\n",
        "    print(f\"\\nLos números ingresados son: {numeros}\")\n",
        "    print(f\"La media (promedio) es: {media:.2f}\")\n",
        "    print(f\"La varianza es: {varianza:.2f}\")\n",
        "\n",
        "# Ejecutar la función\n",
        "calcular_varianza()"
      ],
      "metadata": {
        "colab": {
          "base_uri": "https://localhost:8080/"
        },
        "id": "UKE9r0AQKw6q",
        "outputId": "2064aa15-4bed-4217-fd5e-d3858363bd10"
      },
      "execution_count": 1,
      "outputs": [
        {
          "output_type": "stream",
          "name": "stdout",
          "text": [
            "Ingresa los números para calcular la varianza. Escribe 'fin' para terminar.\n",
            "Introduce un número: fin\n",
            "No se introdujeron números. No se puede calcular la varianza.\n"
          ]
        }
      ]
    },
    {
      "cell_type": "code",
      "source": [
        "def encontrar_frecuencia():\n",
        "    \"\"\"\n",
        "    Encuentra la frecuencia de una serie de números introducidos por el usuario.\n",
        "    \"\"\"\n",
        "    numeros = []\n",
        "\n",
        "    # Solicitar al usuario que ingrese los números\n",
        "    print(\"Ingresa los números para encontrar la frecuencia. Escribe 'fin' para terminar.\")\n",
        "    while True:\n",
        "        entrada = input(\"Introduce un número: \")\n",
        "        if entrada.lower() == 'fin':\n",
        "            break\n",
        "        try:\n",
        "            numeros.append(int(entrada))\n",
        "        except ValueError:\n",
        "            print(\"Entrada inválida. Por favor, ingresa un número entero o 'fin'.\")\n",
        "\n",
        "    if not numeros:\n",
        "        print(\"No se introdujeron números. No se puede calcular la frecuencia.\")\n",
        "        return\n",
        "\n",
        "    frecuencia = {}\n",
        "    for numero in numeros:\n",
        "        frecuencia[numero] = frecuencia.get(numero, 0) + 1\n",
        "\n",
        "    print(f\"\\nLos números ingresados son: {numeros}\")\n",
        "    print(\"\\nFrecuencia de los números:\")\n",
        "    for num, freq in frecuencia.items():\n",
        "        print(f\"El número {num} aparece {freq} vez(ces).\")\n",
        "\n",
        "# Ejecutar la función\n",
        "encontrar_frecuencia()"
      ],
      "metadata": {
        "colab": {
          "base_uri": "https://localhost:8080/"
        },
        "id": "ZFSdXDigK0fw",
        "outputId": "2e6552f3-03cb-46ee-915d-051c4c8ad20b"
      },
      "execution_count": 7,
      "outputs": [
        {
          "output_type": "stream",
          "name": "stdout",
          "text": [
            "Ingresa los números para encontrar la frecuencia. Escribe 'fin' para terminar.\n",
            "Introduce un número: fin\n",
            "No se introdujeron números. No se puede calcular la frecuencia.\n"
          ]
        }
      ]
    },
    {
      "cell_type": "code",
      "source": [
        "def es_palindromo():\n",
        "    \"\"\"\n",
        "    Determina si una palabra introducida por el usuario es un palíndromo.\n",
        "    \"\"\"\n",
        "    palabra = input(\"Ingresa una palabra o frase para verificar si es un palíndromo: \")\n",
        "\n",
        "    # Limpiar la palabra (quitar espacios y convertir a minúsculas)\n",
        "    palabra_limpia = palabra.replace(\" \", \"\").lower()\n",
        "\n",
        "    # Invertir la palabra\n",
        "    palabra_invertida = palabra_limpia[::-1]\n",
        "\n",
        "    # Comparar la palabra limpia con su versión invertida\n",
        "    if palabra_limpia == palabra_invertida:\n",
        "        print(f\"¡'{palabra}' es un palíndromo!\")\n",
        "    else:\n",
        "        print(f\"'{palabra}' no es un palíndromo.\")\n",
        "\n",
        "# Ejecutar la función\n",
        "es_palindromo()"
      ],
      "metadata": {
        "colab": {
          "base_uri": "https://localhost:8080/"
        },
        "id": "UGwjL7LYKzaY",
        "outputId": "e25dc26a-fc94-40fd-d526-f412a917b9ea"
      },
      "execution_count": 4,
      "outputs": [
        {
          "output_type": "stream",
          "name": "stdout",
          "text": [
            "Ingresa una palabra o frase para verificar si es un palíndromo: 56777\n",
            "'56777' no es un palíndromo.\n"
          ]
        }
      ]
    },
    {
      "cell_type": "code",
      "source": [
        "#crear un programa que calcule el mayor de n numeros.\n",
        "class calculadora:\n",
        "    def mayor(self, serie):\n",
        "      nMayor = 0\n",
        "      for i in serie:\n",
        "        num = int(i)\n",
        "        if(num>nMayor):\n",
        "          nMayor = num\n",
        "\n",
        "      return nMayor\n",
        "\n",
        "    def menor(self, serie):\n",
        "      nMenor = 99999\n",
        "      for i in serie:\n",
        "        num = int(i)\n",
        "        if(num<nMenor):\n",
        "          nMenor = num\n",
        "      return nMenor\n",
        "\n",
        "calcular = calculadora()\n",
        "serie = input(\"serie eje: 1,5,4,9,3\").split(\",\")\n",
        "print(serie)\n",
        "print(\"el mayor es:\", calcular.mayor(serie))\n",
        "print(\"el menor es:\", calcular.menor(serie))"
      ],
      "metadata": {
        "colab": {
          "base_uri": "https://localhost:8080/"
        },
        "id": "XTJWYSd5gYPe",
        "outputId": "3d85b356-e90a-4cd9-a912-7e4b4d298ca4"
      },
      "execution_count": 28,
      "outputs": [
        {
          "output_type": "stream",
          "name": "stdout",
          "text": [
            "serie eje: 1,5,4,9,31,5,4,9,3\n",
            "['1', '5', '4', '9', '3']\n",
            "el mayor es: 9\n",
            "el menor es: 1\n"
          ]
        }
      ]
    },
    {
      "cell_type": "code",
      "source": [],
      "metadata": {
        "id": "vu8xgehLk5hz"
      },
      "execution_count": null,
      "outputs": []
    }
  ]
}